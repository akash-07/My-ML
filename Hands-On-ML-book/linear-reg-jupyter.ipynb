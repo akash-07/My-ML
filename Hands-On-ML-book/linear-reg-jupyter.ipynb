{
 "cells": [
  {
   "cell_type": "code",
   "execution_count": 29,
   "metadata": {},
   "outputs": [
    {
     "name": "stdout",
     "output_type": "stream",
     "text": [
      "Epoch 0 MSE =  7.463896\n",
      "Epoch 100 MSE =  1.1150528\n",
      "Epoch 200 MSE =  1.0239196\n",
      "Epoch 300 MSE =  0.94957227\n",
      "Epoch 400 MSE =  0.8886289\n",
      "Epoch 500 MSE =  0.8385379\n",
      "Epoch 600 MSE =  0.79728585\n",
      "Epoch 700 MSE =  0.76325506\n",
      "Epoch 800 MSE =  0.7351295\n",
      "Epoch 900 MSE =  0.71183705\n",
      "[[ 0.96260506]\n",
      " [ 4.2479463 ]\n",
      " [ 0.7566462 ]\n",
      " [-0.06505277]\n",
      " [ 0.6444927 ]\n",
      " [ 0.90545744]\n",
      " [ 0.5009307 ]\n",
      " [-0.56083655]\n",
      " [-0.3336173 ]]\n"
     ]
    }
   ],
   "source": [
    "import sklearn as sk\n",
    "from sklearn import preprocessing\n",
    "from sklearn.datasets import fetch_california_housing\n",
    "import numpy as np\n",
    "import tensorflow as tf\n",
    "\n",
    "n_epochs = 1000\n",
    "# Suggestion by Andrew NG\n",
    "# 0.001 0.003 0.01 0.03 0.1 ... do into 3x roughly\n",
    "learning_rate = 0.03\n",
    "\n",
    "housing = fetch_california_housing()\n",
    "m, n = housing.data.shape\n",
    "scaler = preprocessing.MinMaxScaler()0\n",
    "scaled_housing_data = scaler.fit_transform(housing.data)\n",
    "scaled_housing_data_plus_bias = np.c_[np.ones((m, 1)), scaled_housing_data]\n",
    "X = tf.constant(scaled_housing_data_plus_bias, dtype = tf.float32, name = 'X')\n",
    "y = tf.constant(housing.target.reshape(-1,1), dtype = tf.float32, name = \"y\")\n",
    "theta = tf.Variable(tf.random_uniform([n+1, 1], -1.0, 1.0), name = \"theta\")\n",
    "y_pred = tf.matmul(X, theta, name = \"predictions\")\n",
    "error = y_pred - y\n",
    "mse = tf.reduce_mean(tf.square(error), name = \"mse\")\n",
    "gradients = 2 / m * tf.matmul(tf.transpose(X), error)\n",
    "training_op = tf.assign(theta, theta - learning_rate * gradients)\n",
    "init = tf.global_variables_initializer()\n",
    "\n",
    "with tf.Session() as session:\n",
    "    session.run(init)\n",
    "    for epoch in range(n_epochs):\n",
    "        if(epoch % 100 == 0):\n",
    "            print('Epoch', epoch, \"MSE = \", mse.eval())\n",
    "        session.run(training_op)\n",
    "    best_theta = theta.eval()\n",
    "\n",
    "print(best_theta)\n"
   ]
  },
  {
   "cell_type": "code",
   "execution_count": 20,
   "metadata": {},
   "outputs": [
    {
     "data": {
      "text/plain": [
       "TensorShape([Dimension(9), Dimension(1)])"
      ]
     },
     "execution_count": 20,
     "metadata": {},
     "output_type": "execute_result"
    }
   ],
   "source": [
    "gradients.shape"
   ]
  },
  {
   "cell_type": "code",
   "execution_count": 21,
   "metadata": {},
   "outputs": [
    {
     "data": {
      "text/plain": [
       "TensorShape([Dimension(20640), Dimension(1)])"
      ]
     },
     "execution_count": 21,
     "metadata": {},
     "output_type": "execute_result"
    }
   ],
   "source": [
    "error.shape"
   ]
  },
  {
   "cell_type": "code",
   "execution_count": 22,
   "metadata": {},
   "outputs": [
    {
     "data": {
      "text/plain": [
       "TensorShape([Dimension(20640), Dimension(1)])"
      ]
     },
     "execution_count": 22,
     "metadata": {},
     "output_type": "execute_result"
    }
   ],
   "source": [
    "y.shape"
   ]
  },
  {
   "cell_type": "code",
   "execution_count": 23,
   "metadata": {},
   "outputs": [
    {
     "data": {
      "text/plain": [
       "TensorShape([Dimension(9), Dimension(1)])"
      ]
     },
     "execution_count": 23,
     "metadata": {},
     "output_type": "execute_result"
    }
   ],
   "source": [
    "theta.shape"
   ]
  },
  {
   "cell_type": "code",
   "execution_count": 24,
   "metadata": {},
   "outputs": [
    {
     "data": {
      "text/plain": [
       "TensorShape([Dimension(20640), Dimension(1)])"
      ]
     },
     "execution_count": 24,
     "metadata": {},
     "output_type": "execute_result"
    }
   ],
   "source": [
    "y_pred.shape"
   ]
  },
  {
   "cell_type": "code",
   "execution_count": null,
   "metadata": {},
   "outputs": [],
   "source": []
  },
  {
   "cell_type": "code",
   "execution_count": null,
   "metadata": {},
   "outputs": [],
   "source": []
  }
 ],
 "metadata": {
  "kernelspec": {
   "display_name": "Python 3",
   "language": "python",
   "name": "python3"
  },
  "language_info": {
   "codemirror_mode": {
    "name": "ipython",
    "version": 3
   },
   "file_extension": ".py",
   "mimetype": "text/x-python",
   "name": "python",
   "nbconvert_exporter": "python",
   "pygments_lexer": "ipython3",
   "version": "3.6.3"
  }
 },
 "nbformat": 4,
 "nbformat_minor": 2
}
